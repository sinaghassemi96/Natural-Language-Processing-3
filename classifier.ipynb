{
 "cells": [
  {
   "cell_type": "code",
   "execution_count": 14,
   "id": "0848558a",
   "metadata": {},
   "outputs": [
    {
     "name": "stdout",
     "output_type": "stream",
     "text": [
      "Requirement already satisfied: pandas in c:\\users\\s.ghasemi\\appdata\\local\\anaconda3\\lib\\site-packages (2.0.3)\n",
      "Requirement already satisfied: scikit-learn in c:\\users\\s.ghasemi\\appdata\\local\\anaconda3\\lib\\site-packages (1.2.2)\n",
      "Requirement already satisfied: python-dateutil>=2.8.2 in c:\\users\\s.ghasemi\\appdata\\local\\anaconda3\\lib\\site-packages (from pandas) (2.8.2)\n",
      "Requirement already satisfied: pytz>=2020.1 in c:\\users\\s.ghasemi\\appdata\\local\\anaconda3\\lib\\site-packages (from pandas) (2023.3.post1)\n",
      "Requirement already satisfied: tzdata>=2022.1 in c:\\users\\s.ghasemi\\appdata\\local\\anaconda3\\lib\\site-packages (from pandas) (2023.3)\n",
      "Requirement already satisfied: numpy>=1.21.0 in c:\\users\\s.ghasemi\\appdata\\local\\anaconda3\\lib\\site-packages (from pandas) (1.24.3)\n",
      "Requirement already satisfied: scipy>=1.3.2 in c:\\users\\s.ghasemi\\appdata\\local\\anaconda3\\lib\\site-packages (from scikit-learn) (1.11.1)\n",
      "Requirement already satisfied: joblib>=1.1.1 in c:\\users\\s.ghasemi\\appdata\\local\\anaconda3\\lib\\site-packages (from scikit-learn) (1.2.0)\n",
      "Requirement already satisfied: threadpoolctl>=2.0.0 in c:\\users\\s.ghasemi\\appdata\\local\\anaconda3\\lib\\site-packages (from scikit-learn) (2.2.0)\n",
      "Requirement already satisfied: six>=1.5 in c:\\users\\s.ghasemi\\appdata\\local\\anaconda3\\lib\\site-packages (from python-dateutil>=2.8.2->pandas) (1.16.0)\n",
      "Note: you may need to restart the kernel to use updated packages.\n"
     ]
    }
   ],
   "source": [
    "pip install pandas scikit-learn"
   ]
  },
  {
   "cell_type": "code",
   "execution_count": 1,
   "id": "b38b9b01",
   "metadata": {},
   "outputs": [],
   "source": [
    "import pandas as pd\n",
    "\n",
    "# ruby files\n",
    "ruby_train_0 = r'ruby/ruby_train_0.jsonl'\n",
    "ruby_train_1 = r'ruby/ruby_train_1.jsonl'\n",
    "ruby_valid_0 = r'ruby/ruby_valid_0.jsonl'\n",
    "\n",
    "# go files\n",
    "go_train_0 = r'go/go_train_0.jsonl'\n",
    "go_train_1 = r'go/go_train_1.jsonl'\n",
    "go_train_2 = r'go/go_train_2.jsonl'\n",
    "go_train_3 = r'go/go_train_3.jsonl'\n",
    "go_train_4 = r'go/go_train_4.jsonl'\n",
    "go_train_5 = r'go/go_train_5.jsonl'\n",
    "go_train_6 = r'go/go_train_6.jsonl'\n",
    "go_train_7 = r'go/go_train_7.jsonl'\n",
    "go_train_8 = r'go/go_train_8.jsonl'\n",
    "go_train_9 = r'go/go_train_9.jsonl'\n",
    "go_train_10 = r'go/go_train_10.jsonl'\n",
    "go_valid_0 = r'go/go_valid_0.jsonl'\n",
    "\n",
    "# ruby dataframes\n",
    "df_ruby_train_0 = pd.read_json(ruby_train_0, lines=True)\n",
    "df_ruby_train_1 = pd.read_json(ruby_train_1, lines=True)\n",
    "df_ruby_valid_0 = pd.read_json(ruby_valid_0, lines=True)\n",
    "\n",
    "# go dataframes\n",
    "df_go_train_0 = pd.read_json(go_train_0, lines=True)\n",
    "df_go_train_1 = pd.read_json(go_train_1, lines=True)\n",
    "df_go_train_2 = pd.read_json(go_train_2, lines=True)\n",
    "df_go_train_3 = pd.read_json(go_train_3, lines=True)\n",
    "df_go_train_4 = pd.read_json(go_train_4, lines=True)\n",
    "df_go_train_5 = pd.read_json(go_train_5, lines=True)\n",
    "df_go_train_6 = pd.read_json(go_train_6, lines=True)\n",
    "df_go_train_7 = pd.read_json(go_train_7, lines=True)\n",
    "df_go_train_8 = pd.read_json(go_train_8, lines=True)\n",
    "df_go_train_9 = pd.read_json(go_train_9, lines=True)\n",
    "df_go_train_10 = pd.read_json(go_train_1, lines=True)\n",
    "df_go_valid_0 = pd.read_json(go_valid_0, lines=True)"
   ]
  },
  {
   "cell_type": "code",
   "execution_count": 7,
   "id": "c9856542",
   "metadata": {},
   "outputs": [],
   "source": [
    "ruby_test_0 = r'ruby/ruby_test_0.jsonl'\n",
    "go_test_0 = r'go/go_test_0.jsonl'\n",
    "\n",
    "df_ruby_test_0 = pd.read_json(ruby_test_0, lines=True)\n",
    "df_go_test_0 = pd.read_json(go_test_0, lines=True)"
   ]
  },
  {
   "cell_type": "code",
   "execution_count": 8,
   "id": "507ebd7c",
   "metadata": {},
   "outputs": [
    {
     "data": {
      "text/plain": [
       "(16570, 12)"
      ]
     },
     "execution_count": 8,
     "metadata": {},
     "output_type": "execute_result"
    }
   ],
   "source": [
    "df_test = pd.concat([df_ruby_test_0, df_go_test_0], axis=0)\n",
    "df_test.shape\n"
   ]
  },
  {
   "cell_type": "markdown",
   "id": "caba3640",
   "metadata": {},
   "source": [
    "<div id=\"section\">\n",
    "    <h3>\n",
    "        Main dataframe concatenation\n",
    "    </h3>\n",
    "    <p>\n",
    "        Dataframes formed in the previous section are now concatenated to allow vectorizing using a tf-idf vactorizer. They are later input to the NB model. Data consists train + validation records, as mentioned in the problem definition.\n",
    "    </p>\n",
    "</div>"
   ]
  },
  {
   "cell_type": "code",
   "execution_count": 3,
   "id": "e9505711",
   "metadata": {},
   "outputs": [
    {
     "data": {
      "text/plain": [
       "(381000, 12)"
      ]
     },
     "execution_count": 3,
     "metadata": {},
     "output_type": "execute_result"
    }
   ],
   "source": [
    "df = pd.concat([df_ruby_train_0, df_ruby_train_1, df_ruby_valid_0], axis=0)\n",
    "df = pd.concat([df, df_go_train_0, df_go_train_1, df_go_train_2, df_go_train_3, df_go_train_4, \n",
    "                df_go_train_5, df_go_train_6, df_go_train_7, df_go_train_8, df_go_train_9,\n",
    "                df_go_train_10], axis=0)\n",
    "df.shape"
   ]
  },
  {
   "cell_type": "code",
   "execution_count": 4,
   "id": "857187b7",
   "metadata": {
    "scrolled": false
   },
   "outputs": [
    {
     "data": {
      "text/plain": [
       "Index(['repo', 'path', 'func_name', 'original_string', 'language', 'code',\n",
       "       'code_tokens', 'docstring', 'docstring_tokens', 'sha', 'url',\n",
       "       'partition'],\n",
       "      dtype='object')"
      ]
     },
     "execution_count": 4,
     "metadata": {},
     "output_type": "execute_result"
    }
   ],
   "source": [
    "df.columns"
   ]
  },
  {
   "cell_type": "code",
   "execution_count": 9,
   "id": "1b822e17",
   "metadata": {},
   "outputs": [],
   "source": [
    "from sklearn.feature_extraction.text import TfidfVectorizer\n",
    "\n",
    "def vectorizer(df):\n",
    "    df['combined'] = df['code'] + df['docstring']\n",
    "    vectorizer = TfidfVectorizer(max_features=1000)\n",
    "    x = vectorizer.fit_transform(df['combined'])\n",
    "    y = df['language']\n",
    "    return x, y"
   ]
  },
  {
   "cell_type": "code",
   "execution_count": 10,
   "id": "f66b50fa",
   "metadata": {},
   "outputs": [
    {
     "data": {
      "text/plain": [
       "<381000x1000 sparse matrix of type '<class 'numpy.float64'>'\n",
       "\twith 9907340 stored elements in Compressed Sparse Row format>"
      ]
     },
     "execution_count": 10,
     "metadata": {},
     "output_type": "execute_result"
    }
   ],
   "source": [
    "x_train, y_train = vectorizer(df)"
   ]
  },
  {
   "cell_type": "markdown",
   "id": "2380c670",
   "metadata": {},
   "source": [
    "<div id=\"section\">\n",
    "    <h3>\n",
    "        Test dataframe concatenation\n",
    "    </h3>\n",
    "    <p>\n",
    "        Similar to the training data, the test data is also vectorized and the classification reports are formed using this data.\n",
    "    </p>\n",
    "</div>"
   ]
  },
  {
   "cell_type": "code",
   "execution_count": 11,
   "id": "3a5f1b51",
   "metadata": {},
   "outputs": [],
   "source": [
    "x_test, y_test = vectorizer(df_test)"
   ]
  },
  {
   "cell_type": "code",
   "execution_count": 12,
   "id": "c9ccd7bf",
   "metadata": {},
   "outputs": [
    {
     "data": {
      "text/html": [
       "<style>#sk-container-id-2 {color: black;background-color: white;}#sk-container-id-2 pre{padding: 0;}#sk-container-id-2 div.sk-toggleable {background-color: white;}#sk-container-id-2 label.sk-toggleable__label {cursor: pointer;display: block;width: 100%;margin-bottom: 0;padding: 0.3em;box-sizing: border-box;text-align: center;}#sk-container-id-2 label.sk-toggleable__label-arrow:before {content: \"▸\";float: left;margin-right: 0.25em;color: #696969;}#sk-container-id-2 label.sk-toggleable__label-arrow:hover:before {color: black;}#sk-container-id-2 div.sk-estimator:hover label.sk-toggleable__label-arrow:before {color: black;}#sk-container-id-2 div.sk-toggleable__content {max-height: 0;max-width: 0;overflow: hidden;text-align: left;background-color: #f0f8ff;}#sk-container-id-2 div.sk-toggleable__content pre {margin: 0.2em;color: black;border-radius: 0.25em;background-color: #f0f8ff;}#sk-container-id-2 input.sk-toggleable__control:checked~div.sk-toggleable__content {max-height: 200px;max-width: 100%;overflow: auto;}#sk-container-id-2 input.sk-toggleable__control:checked~label.sk-toggleable__label-arrow:before {content: \"▾\";}#sk-container-id-2 div.sk-estimator input.sk-toggleable__control:checked~label.sk-toggleable__label {background-color: #d4ebff;}#sk-container-id-2 div.sk-label input.sk-toggleable__control:checked~label.sk-toggleable__label {background-color: #d4ebff;}#sk-container-id-2 input.sk-hidden--visually {border: 0;clip: rect(1px 1px 1px 1px);clip: rect(1px, 1px, 1px, 1px);height: 1px;margin: -1px;overflow: hidden;padding: 0;position: absolute;width: 1px;}#sk-container-id-2 div.sk-estimator {font-family: monospace;background-color: #f0f8ff;border: 1px dotted black;border-radius: 0.25em;box-sizing: border-box;margin-bottom: 0.5em;}#sk-container-id-2 div.sk-estimator:hover {background-color: #d4ebff;}#sk-container-id-2 div.sk-parallel-item::after {content: \"\";width: 100%;border-bottom: 1px solid gray;flex-grow: 1;}#sk-container-id-2 div.sk-label:hover label.sk-toggleable__label {background-color: #d4ebff;}#sk-container-id-2 div.sk-serial::before {content: \"\";position: absolute;border-left: 1px solid gray;box-sizing: border-box;top: 0;bottom: 0;left: 50%;z-index: 0;}#sk-container-id-2 div.sk-serial {display: flex;flex-direction: column;align-items: center;background-color: white;padding-right: 0.2em;padding-left: 0.2em;position: relative;}#sk-container-id-2 div.sk-item {position: relative;z-index: 1;}#sk-container-id-2 div.sk-parallel {display: flex;align-items: stretch;justify-content: center;background-color: white;position: relative;}#sk-container-id-2 div.sk-item::before, #sk-container-id-2 div.sk-parallel-item::before {content: \"\";position: absolute;border-left: 1px solid gray;box-sizing: border-box;top: 0;bottom: 0;left: 50%;z-index: -1;}#sk-container-id-2 div.sk-parallel-item {display: flex;flex-direction: column;z-index: 1;position: relative;background-color: white;}#sk-container-id-2 div.sk-parallel-item:first-child::after {align-self: flex-end;width: 50%;}#sk-container-id-2 div.sk-parallel-item:last-child::after {align-self: flex-start;width: 50%;}#sk-container-id-2 div.sk-parallel-item:only-child::after {width: 0;}#sk-container-id-2 div.sk-dashed-wrapped {border: 1px dashed gray;margin: 0 0.4em 0.5em 0.4em;box-sizing: border-box;padding-bottom: 0.4em;background-color: white;}#sk-container-id-2 div.sk-label label {font-family: monospace;font-weight: bold;display: inline-block;line-height: 1.2em;}#sk-container-id-2 div.sk-label-container {text-align: center;}#sk-container-id-2 div.sk-container {/* jupyter's `normalize.less` sets `[hidden] { display: none; }` but bootstrap.min.css set `[hidden] { display: none !important; }` so we also need the `!important` here to be able to override the default hidden behavior on the sphinx rendered scikit-learn.org. See: https://github.com/scikit-learn/scikit-learn/issues/21755 */display: inline-block !important;position: relative;}#sk-container-id-2 div.sk-text-repr-fallback {display: none;}</style><div id=\"sk-container-id-2\" class=\"sk-top-container\"><div class=\"sk-text-repr-fallback\"><pre>MultinomialNB()</pre><b>In a Jupyter environment, please rerun this cell to show the HTML representation or trust the notebook. <br />On GitHub, the HTML representation is unable to render, please try loading this page with nbviewer.org.</b></div><div class=\"sk-container\" hidden><div class=\"sk-item\"><div class=\"sk-estimator sk-toggleable\"><input class=\"sk-toggleable__control sk-hidden--visually\" id=\"sk-estimator-id-2\" type=\"checkbox\" checked><label for=\"sk-estimator-id-2\" class=\"sk-toggleable__label sk-toggleable__label-arrow\">MultinomialNB</label><div class=\"sk-toggleable__content\"><pre>MultinomialNB()</pre></div></div></div></div></div>"
      ],
      "text/plain": [
       "MultinomialNB()"
      ]
     },
     "execution_count": 12,
     "metadata": {},
     "output_type": "execute_result"
    }
   ],
   "source": [
    "from sklearn.naive_bayes import MultinomialNB\n",
    "from sklearn.metrics import accuracy_score, classification_report\n",
    "\n",
    "nb_model = MultinomialNB()\n",
    "nb_model.fit(x_train, y_train)"
   ]
  },
  {
   "cell_type": "code",
   "execution_count": 13,
   "id": "aa492d43",
   "metadata": {},
   "outputs": [
    {
     "name": "stdout",
     "output_type": "stream",
     "text": [
      "Accuracy: 0.85\n",
      "              precision    recall  f1-score   support\n",
      "\n",
      "          go       0.86      0.99      0.92     14291\n",
      "        ruby       0.15      0.02      0.03      2279\n",
      "\n",
      "    accuracy                           0.85     16570\n",
      "   macro avg       0.51      0.50      0.47     16570\n",
      "weighted avg       0.76      0.85      0.80     16570\n",
      "\n"
     ]
    }
   ],
   "source": [
    "y_pred = nb_model.predict(x_test)\n",
    "\n",
    "accuracy = accuracy_score(y_true=y_test, y_pred=y_pred)\n",
    "print(f'Accuracy: {accuracy:.2f}')\n",
    "\n",
    "print(classification_report(y_true=y_test, y_pred=y_pred))"
   ]
  }
 ],
 "metadata": {
  "kernelspec": {
   "display_name": "Python 3 (ipykernel)",
   "language": "python",
   "name": "python3"
  },
  "language_info": {
   "codemirror_mode": {
    "name": "ipython",
    "version": 3
   },
   "file_extension": ".py",
   "mimetype": "text/x-python",
   "name": "python",
   "nbconvert_exporter": "python",
   "pygments_lexer": "ipython3",
   "version": "3.11.5"
  }
 },
 "nbformat": 4,
 "nbformat_minor": 5
}
